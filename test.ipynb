{
 "cells": [
  {
   "cell_type": "code",
   "execution_count": 2,
   "metadata": {},
   "outputs": [],
   "source": [
    "import os\n",
    "import torch\n",
    "import torchvision\n",
    "import numpy as np\n",
    "from torch.utils.data import Dataset, DataLoader\n",
    "from torchvision.io import read_image\n",
    "\n",
    "from utils import load_model\n",
    "\n",
    "\n",
    "# Device configuration\n",
    "os.environ[\"CUDA_VISIBLE_DEVICES\"] = '7'\n",
    "device = torch.device('cuda:0' if torch.cuda.is_available() else 'cpu')"
   ]
  },
  {
   "cell_type": "markdown",
   "metadata": {},
   "source": [
    "#### Custom Dataset"
   ]
  },
  {
   "cell_type": "code",
   "execution_count": 3,
   "metadata": {},
   "outputs": [],
   "source": [
    "\n",
    "class CustomImageDataset(Dataset):\n",
    "\n",
    "    def __init__(self, img_dir, transform=None, target_transform=None):\n",
    "        self.img_dir = img_dir\n",
    "        self.transform = transform\n",
    "        self.target_transform = target_transform\n",
    "\n",
    "    def __len__(self):\n",
    "        return len(os.listdir(self.img_dir))\n",
    "\n",
    "    def __getitem__(self, idx):\n",
    "        img_list = os.listdir(self.img_dir)\n",
    "        img_path = os.path.join(self.img_dir, img_list[idx])\n",
    "        image = read_image(img_path).float() / 255\n",
    "        label = int(img_list[idx].split(\"_\")[0])\n",
    "        if self.transform:\n",
    "            image = self.transform(image)\n",
    "        if self.target_transform:\n",
    "            label = self.target_transform(label)\n",
    "        return image, label"
   ]
  },
  {
   "cell_type": "markdown",
   "metadata": {},
   "source": [
    "### Load Dataset and Model"
   ]
  },
  {
   "cell_type": "code",
   "execution_count": 4,
   "metadata": {},
   "outputs": [],
   "source": [
    "model_names = [\"resnet110_cifar100\", \n",
    "               \"preresnet164bn_cifar100\", \n",
    "               \"seresnet110_cifar100\", \n",
    "               \"densenet40_k36_bc_cifar100\", \n",
    "               \"diaresnet164bn_cifar100\"\n",
    "]\n",
    "\n",
    "\n",
    "model = load_model(model_names, device)\n",
    "\n",
    "\n",
    "clean_dataset = CustomImageDataset(\"./data/images\")\n",
    "clean_loader = DataLoader(dataset=clean_dataset, batch_size=100, shuffle=False)\n",
    "\n",
    "attack_dataset = CustomImageDataset(\"./results\")\n",
    "attack_loader =  DataLoader(dataset=attack_dataset, batch_size=100, shuffle=False)"
   ]
  },
  {
   "cell_type": "markdown",
   "metadata": {},
   "source": [
    "### Evaluation"
   ]
  },
  {
   "cell_type": "code",
   "execution_count": 5,
   "metadata": {},
   "outputs": [
    {
     "name": "stdout",
     "output_type": "stream",
     "text": [
      "Accuracy on the test images: 100.0 %\n"
     ]
    }
   ],
   "source": [
    "total, correct = 0, 0\n",
    "\n",
    "for images, labels in clean_loader:\n",
    "\n",
    "    images = images.to(device)\n",
    "    labels = labels.to(device)\n",
    "    with torch.no_grad():\n",
    "        outputs = model(images)\n",
    "\n",
    "    _, prediction = torch.max(outputs.data, 1)\n",
    "    total += labels.size(0)\n",
    "    correct += (prediction == labels).sum().item()\n",
    "\n",
    "print('Accuracy on the test images: {} %'.format(100 * correct / total))"
   ]
  },
  {
   "cell_type": "code",
   "execution_count": 7,
   "metadata": {},
   "outputs": [
    {
     "name": "stdout",
     "output_type": "stream",
     "text": [
      "Accuracy on the test images: 18.6 %\n"
     ]
    }
   ],
   "source": [
    "total, correct = 0, 0\n",
    "\n",
    "for images, labels in attack_loader:\n",
    "\n",
    "    images = images.to(device)\n",
    "    labels = labels.to(device)\n",
    "    with torch.no_grad():\n",
    "        outputs = model(images)\n",
    "\n",
    "    _, prediction = torch.max(outputs.data, 1)\n",
    "    total += labels.size(0)\n",
    "    correct += (prediction == labels).sum().item()\n",
    "\n",
    "print('Accuracy on the test images: {} %'.format(100 * correct / total))"
   ]
  },
  {
   "cell_type": "code",
   "execution_count": 21,
   "metadata": {},
   "outputs": [
    {
     "name": "stdout",
     "output_type": "stream",
     "text": [
      "Label: sea, Predicted: apple\n"
     ]
    },
    {
     "data": {
      "image/png": "[encoded data removed]",
      "text/plain": [
       "<Figure size 640x480 with 2 Axes>"
      ]
     },
     "metadata": {},
     "output_type": "display_data"
    }
   ],
   "source": [
    "import random\n",
    "from  mapping import true_labels\n",
    "import matplotlib.pyplot as plt\n",
    "\n",
    "n = random.randint(0, 499)\n",
    "\n",
    "\n",
    "image = attack_dataset[n][0].to(device).reshape((1,3,32,32))\n",
    "label = attack_dataset[n][1]\n",
    "\n",
    "output = model(image)\n",
    "_, prediction = torch.max(output.data, 1)\n",
    "\n",
    "print(f\"Label: {true_labels[label]}, Predicted: {true_labels[prediction[0]]}\")\n",
    "\n",
    "original_image = clean_dataset[n][0].numpy().transpose(1,2,0)\n",
    "perturbed_image = attack_dataset[n][0].numpy().transpose(1,2,0)\n",
    "\n",
    "f, axarr = plt.subplots(1, 2)\n",
    "axarr[0].imshow(original_image)\n",
    "axarr[1].imshow(perturbed_image)\n",
    "plt.show()"
   ]
  }
 ],
 "metadata": {
  "kernelspec": {
   "display_name": "Python 3",
   "language": "python",
   "name": "python3"
  },
  "language_info": {
   "codemirror_mode": {
    "name": "ipython",
    "version": 3
   },
   "file_extension": ".py",
   "mimetype": "text/x-python",
   "name": "python",
   "nbconvert_exporter": "python",
   "pygments_lexer": "ipython3",
   "version": "3.9.18"
  }
 },
 "nbformat": 4,
 "nbformat_minor": 2
}
